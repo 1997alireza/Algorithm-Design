{
 "cells": [
  {
   "cell_type": "code",
   "execution_count": 1,
   "metadata": {},
   "outputs": [],
   "source": [
    "from p1_association_rules import *\n",
    "from tools import *"
   ]
  },
  {
   "cell_type": "code",
   "execution_count": 2,
   "metadata": {},
   "outputs": [],
   "source": [
    "# =========== Question One - Part One ==========\n",
    "transactions = [\n",
    "    ['a', 'b', 'd', 'g'],\n",
    "    ['b', 'd', 'e'],\n",
    "    ['a', 'b', 'c', 'e', 'f'],\n",
    "    ['b', 'd', 'e', 'g'],\n",
    "    ['a', 'b', 'c', 'e', 'f'],\n",
    "    ['b', 'e', 'g'],\n",
    "    ['a', 'c', 'd', 'e'],\n",
    "    ['b', 'e'],\n",
    "    ['a', 'b', 'e', 'f'],\n",
    "    ['a', 'c', 'd', 'e']\n",
    "]\n",
    "\n",
    "a_priori_solver = APriori(transactions)\n",
    "a_priori_solver.extract_frequent_itemsets()"
   ]
  },
  {
   "cell_type": "code",
   "execution_count": 3,
   "metadata": {},
   "outputs": [
    {
     "name": "stdout",
     "output_type": "stream",
     "text": [
      "[{'c'}, {'b'}, {'a'}, {'d'}, {'e'}]\n"
     ]
    }
   ],
   "source": [
    "print([x.items for x in a_priori_solver.frequent_itemsets[0]])  # frequent 1-itemsets, 1.a"
   ]
  },
  {
   "cell_type": "code",
   "execution_count": 4,
   "metadata": {},
   "outputs": [
    {
     "name": "stdout",
     "output_type": "stream",
     "text": [
      "[{'c', 'a'}, {'c', 'e'}, {'a', 'b'}, {'b', 'e'}, {'a', 'e'}, {'d', 'e'}]\n"
     ]
    }
   ],
   "source": [
    "print([x.items for x in a_priori_solver.frequent_itemsets[1]])  # frequent 2-itemsets, 1.b"
   ]
  },
  {
   "cell_type": "code",
   "execution_count": 5,
   "metadata": {},
   "outputs": [
    {
     "name": "stdout",
     "output_type": "stream",
     "text": [
      "ItemSet(items={'b', 'e'}, support=7)\n"
     ]
    }
   ],
   "source": [
    "two_itemsets = a_priori_solver.frequent_itemsets[1] # 1.c\n",
    "for itemset in two_itemsets:\n",
    "    if itemset.support >= 7:\n",
    "        print(itemset)"
   ]
  },
  {
   "cell_type": "code",
   "execution_count": 6,
   "metadata": {},
   "outputs": [
    {
     "name": "stdout",
     "output_type": "stream",
     "text": [
      "AssociationRule(left_items={'c'}, right_items={'a'}, support=4, confidence=1.0)\nAssociationRule(left_items={'c'}, right_items={'e'}, support=4, confidence=1.0)\nAssociationRule(left_items={'c', 'e'}, right_items={'a'}, support=4, confidence=1.0)\nAssociationRule(left_items={'a', 'c'}, right_items={'e'}, support=4, confidence=1.0)\nAssociationRule(left_items={'c'}, right_items={'a', 'e'}, support=4, confidence=1.0)\n"
     ]
    }
   ],
   "source": [
    "print(*a_priori_solver.extract_association_rules(1.0), sep='\\n')  # 1.d"
   ]
  },
  {
   "cell_type": "code",
   "execution_count": 7,
   "metadata": {},
   "outputs": [
    {
     "name": "stdout",
     "output_type": "stream",
     "text": [
      "AssociationRule(left_items={'a'}, right_items={'c'}, support=4, confidence=0.6666666666666666)\nAssociationRule(left_items={'c'}, right_items={'a'}, support=4, confidence=1.0)\nAssociationRule(left_items={'e'}, right_items={'c'}, support=4, confidence=0.4444444444444444)\nAssociationRule(left_items={'c'}, right_items={'e'}, support=4, confidence=1.0)\nAssociationRule(left_items={'b'}, right_items={'a'}, support=4, confidence=0.5)\nAssociationRule(left_items={'a'}, right_items={'b'}, support=4, confidence=0.6666666666666666)\nAssociationRule(left_items={'e'}, right_items={'b'}, support=7, confidence=0.7777777777777778)\nAssociationRule(left_items={'b'}, right_items={'e'}, support=7, confidence=0.875)\nAssociationRule(left_items={'e'}, right_items={'a'}, support=5, confidence=0.5555555555555556)\nAssociationRule(left_items={'a'}, right_items={'e'}, support=5, confidence=0.8333333333333334)\nAssociationRule(left_items={'e'}, right_items={'d'}, support=4, confidence=0.4444444444444444)\nAssociationRule(left_items={'d'}, right_items={'e'}, support=4, confidence=0.8)\nAssociationRule(left_items={'a', 'e'}, right_items={'c'}, support=4, confidence=0.8)\nAssociationRule(left_items={'c', 'e'}, right_items={'a'}, support=4, confidence=1.0)\nAssociationRule(left_items={'e'}, right_items={'a', 'c'}, support=4, confidence=0.4444444444444444)\nAssociationRule(left_items={'a', 'c'}, right_items={'e'}, support=4, confidence=1.0)\nAssociationRule(left_items={'a'}, right_items={'c', 'e'}, support=4, confidence=0.6666666666666666)\nAssociationRule(left_items={'c'}, right_items={'a', 'e'}, support=4, confidence=1.0)\n"
     ]
    }
   ],
   "source": [
    "print(*a_priori_solver.extract_association_rules(0), sep='\\n')  # 1.e"
   ]
  },
  {
   "cell_type": "code",
   "execution_count": 8,
   "metadata": {},
   "outputs": [],
   "source": [
    "# =========== Question One - Part Two ==========\n",
    "\n",
    "transactions = [\n",
    "    ['a', 'c', 'd'],\n",
    "    ['b', 'c', 'e'],\n",
    "    ['a', 'b', 'c', 'e'],\n",
    "    ['b', 'e']\n",
    "]\n",
    "\n",
    "a_priori_solver = APriori(transactions, support_threshold=2)\n",
    "a_priori_solver.extract_frequent_itemsets()"
   ]
  },
  {
   "cell_type": "code",
   "execution_count": 9,
   "metadata": {},
   "outputs": [
    {
     "name": "stdout",
     "output_type": "stream",
     "text": [
      "[{'c'}, {'b'}, {'a'}, {'e'}]\n[{'c', 'b'}, {'c', 'a'}, {'c', 'e'}, {'b', 'e'}]\n[{'b', 'c', 'e'}]\n"
     ]
    }
   ],
   "source": [
    "print_itemsets(a_priori_solver.frequent_itemsets)  # 1.a"
   ]
  },
  {
   "cell_type": "code",
   "execution_count": 10,
   "metadata": {},
   "outputs": [
    {
     "name": "stdout",
     "output_type": "stream",
     "text": [
      "14\n"
     ]
    }
   ],
   "source": [
    "print(len(a_priori_solver.extract_association_rules(.65)))  # 1.b"
   ]
  },
  {
   "cell_type": "code",
   "execution_count": 11,
   "metadata": {},
   "outputs": [
    {
     "name": "stdout",
     "output_type": "stream",
     "text": [
      "AssociationRule(left_items={'a'}, right_items={'c'}, support=2, confidence=1.0)\nAssociationRule(left_items={'e'}, right_items={'b'}, support=3, confidence=1.0)\nAssociationRule(left_items={'b'}, right_items={'e'}, support=3, confidence=1.0)\nAssociationRule(left_items={'c', 'e'}, right_items={'b'}, support=2, confidence=1.0)\nAssociationRule(left_items={'c', 'b'}, right_items={'e'}, support=2, confidence=1.0)\n"
     ]
    }
   ],
   "source": [
    "print(*a_priori_solver.extract_association_rules(0.8), sep='\\n')  # 1.c"
   ]
  },
  {
   "cell_type": "code",
   "execution_count": 12,
   "metadata": {},
   "outputs": [
    {
     "name": "stdout",
     "output_type": "stream",
     "text": [
      "AssociationRule(left_items={'b'}, right_items={'c'}, support=2, confidence=0.6666666666666666)\nAssociationRule(left_items={'c'}, right_items={'b'}, support=2, confidence=0.6666666666666666)\nAssociationRule(left_items={'a'}, right_items={'c'}, support=2, confidence=1.0)\nAssociationRule(left_items={'c'}, right_items={'a'}, support=2, confidence=0.6666666666666666)\nAssociationRule(left_items={'e'}, right_items={'c'}, support=2, confidence=0.6666666666666666)\nAssociationRule(left_items={'c'}, right_items={'e'}, support=2, confidence=0.6666666666666666)\nAssociationRule(left_items={'e'}, right_items={'b'}, support=3, confidence=1.0)\nAssociationRule(left_items={'b'}, right_items={'e'}, support=3, confidence=1.0)\nAssociationRule(left_items={'c', 'e'}, right_items={'b'}, support=2, confidence=1.0)\nAssociationRule(left_items={'e', 'b'}, right_items={'c'}, support=2, confidence=0.6666666666666666)\nAssociationRule(left_items={'e'}, right_items={'c', 'b'}, support=2, confidence=0.6666666666666666)\nAssociationRule(left_items={'c', 'b'}, right_items={'e'}, support=2, confidence=1.0)\nAssociationRule(left_items={'c'}, right_items={'e', 'b'}, support=2, confidence=0.6666666666666666)\nAssociationRule(left_items={'b'}, right_items={'c', 'e'}, support=2, confidence=0.6666666666666666)\n"
     ]
    }
   ],
   "source": [
    "print(*a_priori_solver.extract_association_rules(0), sep='\\n')  # 1.d, 1.e"
   ]
  },
  {
   "cell_type": "code",
   "execution_count": null,
   "metadata": {},
   "outputs": [],
   "source": []
  }
 ],
 "metadata": {
  "kernelspec": {
   "display_name": "Python 2",
   "language": "python",
   "name": "python2"
  },
  "language_info": {
   "codemirror_mode": {
    "name": "ipython",
    "version": 2
   },
   "file_extension": ".py",
   "mimetype": "text/x-python",
   "name": "python",
   "nbconvert_exporter": "python",
   "pygments_lexer": "ipython2",
   "version": "2.7.6"
  }
 },
 "nbformat": 4,
 "nbformat_minor": 0
}
